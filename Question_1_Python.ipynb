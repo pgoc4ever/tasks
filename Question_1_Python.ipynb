{
  "nbformat": 4,
  "nbformat_minor": 0,
  "metadata": {
    "colab": {
      "provenance": []
    },
    "kernelspec": {
      "name": "python3",
      "display_name": "Python 3"
    },
    "language_info": {
      "name": "python"
    }
  },
  "cells": [
    {
      "cell_type": "code",
      "execution_count": 45,
      "metadata": {
        "id": "AFTFPqasBzdu"
      },
      "outputs": [],
      "source": [
        "import pandas as pd\n",
        "import numpy as np\n",
        "import re"
      ]
    },
    {
      "cell_type": "code",
      "source": [
        "fl=[]\n",
        "to_csv = []"
      ],
      "metadata": {
        "id": "zLXZydnpOPgn"
      },
      "execution_count": 46,
      "outputs": []
    },
    {
      "cell_type": "code",
      "source": [
        "file1 = open(\"/content/sample_data/onelinefile.txt\",\"w\")\n",
        "c = \"1Aaa3.5Maths2Bbb4.2Physics3Ccc7.62Chemistry4Ddd9.55Biology5Eee4.0Social6Fff7.6English7Ggg3.111Maths8Hhh9.99Physics9Iii1.23Civics\"\n",
        "\n",
        "file1.writelines(c)\n",
        "file1.close()"
      ],
      "metadata": {
        "id": "RvYijgsvYgDS"
      },
      "execution_count": 47,
      "outputs": []
    },
    {
      "cell_type": "code",
      "source": [
        "with open('/content/sample_data/onelinefile.txt') as f:\n",
        "    lines = f.readlines()"
      ],
      "metadata": {
        "id": "fbqYQHblKsiT"
      },
      "execution_count": 48,
      "outputs": []
    },
    {
      "cell_type": "code",
      "source": [
        "for line in lines:\n",
        "  #Split the lines into records\n",
        "  rec = re.findall(\"[0-9][A-Z][a-z]*[0-9][.]*[0-9]*[A-Z][a-z]*\",line)\n",
        "  print(rec)"
      ],
      "metadata": {
        "colab": {
          "base_uri": "https://localhost:8080/"
        },
        "id": "eATjrNtMKslE",
        "outputId": "5bf17aa9-c3dc-430e-fce1-0b1e638e6882"
      },
      "execution_count": 49,
      "outputs": [
        {
          "output_type": "stream",
          "name": "stdout",
          "text": [
            "['1Aaa3.5Maths', '2Bbb4.2Physics', '3Ccc7.62Chemistry', '4Ddd9.55Biology', '5Eee4.0Social', '6Fff7.6English', '7Ggg3.111Maths', '8Hhh9.99Physics', '9Iii1.23Civics']\n"
          ]
        }
      ]
    },
    {
      "cell_type": "code",
      "source": [
        "import csv"
      ],
      "metadata": {
        "id": "_m6r3v07S_ct"
      },
      "execution_count": 50,
      "outputs": []
    },
    {
      "cell_type": "code",
      "source": [
        "#Serial Number\n",
        "sno=[]\n",
        "#Name\n",
        "name = []\n",
        "#Score\n",
        "score = []\n",
        "#Subject\n",
        "subject = []\n",
        "\n",
        "for i in range(len(rec)):\n",
        "  #Serial Number\n",
        "  sno.append(i+1)\n",
        "\n",
        "for i in rec:\n",
        "  #Store the Strings\n",
        "  string = re.findall(\"[A-Z][a-z]*\",i)\n",
        "  print(string)\n",
        "  name.append(string[0])\n",
        "  subject.append(string[1])\n",
        "\n",
        "  #Store the Score\n",
        "  mark = re.findall(\"[0-9][.][0-9]*\",i)\n",
        "  for j in mark:\n",
        "    score.append(j)\n",
        "  \n",
        "print(sno)\n",
        "print(name)\n",
        "print(score)\n",
        "print(subject)"
      ],
      "metadata": {
        "colab": {
          "base_uri": "https://localhost:8080/"
        },
        "id": "mzo_39dHTERz",
        "outputId": "79dcea6c-3c12-40c0-b96a-b9a1d681c57a"
      },
      "execution_count": 51,
      "outputs": [
        {
          "output_type": "stream",
          "name": "stdout",
          "text": [
            "['Aaa', 'Maths']\n",
            "['Bbb', 'Physics']\n",
            "['Ccc', 'Chemistry']\n",
            "['Ddd', 'Biology']\n",
            "['Eee', 'Social']\n",
            "['Fff', 'English']\n",
            "['Ggg', 'Maths']\n",
            "['Hhh', 'Physics']\n",
            "['Iii', 'Civics']\n",
            "[1, 2, 3, 4, 5, 6, 7, 8, 9]\n",
            "['Aaa', 'Bbb', 'Ccc', 'Ddd', 'Eee', 'Fff', 'Ggg', 'Hhh', 'Iii']\n",
            "['3.5', '4.2', '7.62', '9.55', '4.0', '7.6', '3.111', '9.99', '1.23']\n",
            "['Maths', 'Physics', 'Chemistry', 'Biology', 'Social', 'English', 'Maths', 'Physics', 'Civics']\n"
          ]
        }
      ]
    },
    {
      "cell_type": "code",
      "source": [
        "dict = {'Sno': sno, 'Name':name, 'Score':score, 'Subject':subject}\n",
        "print(dict)"
      ],
      "metadata": {
        "colab": {
          "base_uri": "https://localhost:8080/"
        },
        "id": "SBwuFmFOXAmC",
        "outputId": "56fed607-b48c-4fb6-c470-cad227faf732"
      },
      "execution_count": 52,
      "outputs": [
        {
          "output_type": "stream",
          "name": "stdout",
          "text": [
            "{'Sno': [1, 2, 3, 4, 5, 6, 7, 8, 9], 'Name': ['Aaa', 'Bbb', 'Ccc', 'Ddd', 'Eee', 'Fff', 'Ggg', 'Hhh', 'Iii'], 'Score': ['3.5', '4.2', '7.62', '9.55', '4.0', '7.6', '3.111', '9.99', '1.23'], 'Subject': ['Maths', 'Physics', 'Chemistry', 'Biology', 'Social', 'English', 'Maths', 'Physics', 'Civics']}\n"
          ]
        }
      ]
    },
    {
      "cell_type": "code",
      "source": [
        "ds = pd.DataFrame(dict)"
      ],
      "metadata": {
        "id": "YbZhlXR6Vrp_"
      },
      "execution_count": 53,
      "outputs": []
    },
    {
      "cell_type": "code",
      "source": [
        "ds"
      ],
      "metadata": {
        "colab": {
          "base_uri": "https://localhost:8080/",
          "height": 332
        },
        "id": "sCgw_D6EXbIl",
        "outputId": "0befae87-3a92-4f62-9374-c504944a82a9"
      },
      "execution_count": 54,
      "outputs": [
        {
          "output_type": "execute_result",
          "data": {
            "text/plain": [
              "   Sno Name  Score    Subject\n",
              "0    1  Aaa    3.5      Maths\n",
              "1    2  Bbb    4.2    Physics\n",
              "2    3  Ccc   7.62  Chemistry\n",
              "3    4  Ddd   9.55    Biology\n",
              "4    5  Eee    4.0     Social\n",
              "5    6  Fff    7.6    English\n",
              "6    7  Ggg  3.111      Maths\n",
              "7    8  Hhh   9.99    Physics\n",
              "8    9  Iii   1.23     Civics"
            ],
            "text/html": [
              "\n",
              "  <div id=\"df-d6a02e4a-5f18-4846-b64a-6dcd491af009\">\n",
              "    <div class=\"colab-df-container\">\n",
              "      <div>\n",
              "<style scoped>\n",
              "    .dataframe tbody tr th:only-of-type {\n",
              "        vertical-align: middle;\n",
              "    }\n",
              "\n",
              "    .dataframe tbody tr th {\n",
              "        vertical-align: top;\n",
              "    }\n",
              "\n",
              "    .dataframe thead th {\n",
              "        text-align: right;\n",
              "    }\n",
              "</style>\n",
              "<table border=\"1\" class=\"dataframe\">\n",
              "  <thead>\n",
              "    <tr style=\"text-align: right;\">\n",
              "      <th></th>\n",
              "      <th>Sno</th>\n",
              "      <th>Name</th>\n",
              "      <th>Score</th>\n",
              "      <th>Subject</th>\n",
              "    </tr>\n",
              "  </thead>\n",
              "  <tbody>\n",
              "    <tr>\n",
              "      <th>0</th>\n",
              "      <td>1</td>\n",
              "      <td>Aaa</td>\n",
              "      <td>3.5</td>\n",
              "      <td>Maths</td>\n",
              "    </tr>\n",
              "    <tr>\n",
              "      <th>1</th>\n",
              "      <td>2</td>\n",
              "      <td>Bbb</td>\n",
              "      <td>4.2</td>\n",
              "      <td>Physics</td>\n",
              "    </tr>\n",
              "    <tr>\n",
              "      <th>2</th>\n",
              "      <td>3</td>\n",
              "      <td>Ccc</td>\n",
              "      <td>7.62</td>\n",
              "      <td>Chemistry</td>\n",
              "    </tr>\n",
              "    <tr>\n",
              "      <th>3</th>\n",
              "      <td>4</td>\n",
              "      <td>Ddd</td>\n",
              "      <td>9.55</td>\n",
              "      <td>Biology</td>\n",
              "    </tr>\n",
              "    <tr>\n",
              "      <th>4</th>\n",
              "      <td>5</td>\n",
              "      <td>Eee</td>\n",
              "      <td>4.0</td>\n",
              "      <td>Social</td>\n",
              "    </tr>\n",
              "    <tr>\n",
              "      <th>5</th>\n",
              "      <td>6</td>\n",
              "      <td>Fff</td>\n",
              "      <td>7.6</td>\n",
              "      <td>English</td>\n",
              "    </tr>\n",
              "    <tr>\n",
              "      <th>6</th>\n",
              "      <td>7</td>\n",
              "      <td>Ggg</td>\n",
              "      <td>3.111</td>\n",
              "      <td>Maths</td>\n",
              "    </tr>\n",
              "    <tr>\n",
              "      <th>7</th>\n",
              "      <td>8</td>\n",
              "      <td>Hhh</td>\n",
              "      <td>9.99</td>\n",
              "      <td>Physics</td>\n",
              "    </tr>\n",
              "    <tr>\n",
              "      <th>8</th>\n",
              "      <td>9</td>\n",
              "      <td>Iii</td>\n",
              "      <td>1.23</td>\n",
              "      <td>Civics</td>\n",
              "    </tr>\n",
              "  </tbody>\n",
              "</table>\n",
              "</div>\n",
              "      <button class=\"colab-df-convert\" onclick=\"convertToInteractive('df-d6a02e4a-5f18-4846-b64a-6dcd491af009')\"\n",
              "              title=\"Convert this dataframe to an interactive table.\"\n",
              "              style=\"display:none;\">\n",
              "        \n",
              "  <svg xmlns=\"http://www.w3.org/2000/svg\" height=\"24px\"viewBox=\"0 0 24 24\"\n",
              "       width=\"24px\">\n",
              "    <path d=\"M0 0h24v24H0V0z\" fill=\"none\"/>\n",
              "    <path d=\"M18.56 5.44l.94 2.06.94-2.06 2.06-.94-2.06-.94-.94-2.06-.94 2.06-2.06.94zm-11 1L8.5 8.5l.94-2.06 2.06-.94-2.06-.94L8.5 2.5l-.94 2.06-2.06.94zm10 10l.94 2.06.94-2.06 2.06-.94-2.06-.94-.94-2.06-.94 2.06-2.06.94z\"/><path d=\"M17.41 7.96l-1.37-1.37c-.4-.4-.92-.59-1.43-.59-.52 0-1.04.2-1.43.59L10.3 9.45l-7.72 7.72c-.78.78-.78 2.05 0 2.83L4 21.41c.39.39.9.59 1.41.59.51 0 1.02-.2 1.41-.59l7.78-7.78 2.81-2.81c.8-.78.8-2.07 0-2.86zM5.41 20L4 18.59l7.72-7.72 1.47 1.35L5.41 20z\"/>\n",
              "  </svg>\n",
              "      </button>\n",
              "      \n",
              "  <style>\n",
              "    .colab-df-container {\n",
              "      display:flex;\n",
              "      flex-wrap:wrap;\n",
              "      gap: 12px;\n",
              "    }\n",
              "\n",
              "    .colab-df-convert {\n",
              "      background-color: #E8F0FE;\n",
              "      border: none;\n",
              "      border-radius: 50%;\n",
              "      cursor: pointer;\n",
              "      display: none;\n",
              "      fill: #1967D2;\n",
              "      height: 32px;\n",
              "      padding: 0 0 0 0;\n",
              "      width: 32px;\n",
              "    }\n",
              "\n",
              "    .colab-df-convert:hover {\n",
              "      background-color: #E2EBFA;\n",
              "      box-shadow: 0px 1px 2px rgba(60, 64, 67, 0.3), 0px 1px 3px 1px rgba(60, 64, 67, 0.15);\n",
              "      fill: #174EA6;\n",
              "    }\n",
              "\n",
              "    [theme=dark] .colab-df-convert {\n",
              "      background-color: #3B4455;\n",
              "      fill: #D2E3FC;\n",
              "    }\n",
              "\n",
              "    [theme=dark] .colab-df-convert:hover {\n",
              "      background-color: #434B5C;\n",
              "      box-shadow: 0px 1px 3px 1px rgba(0, 0, 0, 0.15);\n",
              "      filter: drop-shadow(0px 1px 2px rgba(0, 0, 0, 0.3));\n",
              "      fill: #FFFFFF;\n",
              "    }\n",
              "  </style>\n",
              "\n",
              "      <script>\n",
              "        const buttonEl =\n",
              "          document.querySelector('#df-d6a02e4a-5f18-4846-b64a-6dcd491af009 button.colab-df-convert');\n",
              "        buttonEl.style.display =\n",
              "          google.colab.kernel.accessAllowed ? 'block' : 'none';\n",
              "\n",
              "        async function convertToInteractive(key) {\n",
              "          const element = document.querySelector('#df-d6a02e4a-5f18-4846-b64a-6dcd491af009');\n",
              "          const dataTable =\n",
              "            await google.colab.kernel.invokeFunction('convertToInteractive',\n",
              "                                                     [key], {});\n",
              "          if (!dataTable) return;\n",
              "\n",
              "          const docLinkHtml = 'Like what you see? Visit the ' +\n",
              "            '<a target=\"_blank\" href=https://colab.research.google.com/notebooks/data_table.ipynb>data table notebook</a>'\n",
              "            + ' to learn more about interactive tables.';\n",
              "          element.innerHTML = '';\n",
              "          dataTable['output_type'] = 'display_data';\n",
              "          await google.colab.output.renderOutput(dataTable, element);\n",
              "          const docLink = document.createElement('div');\n",
              "          docLink.innerHTML = docLinkHtml;\n",
              "          element.appendChild(docLink);\n",
              "        }\n",
              "      </script>\n",
              "    </div>\n",
              "  </div>\n",
              "  "
            ]
          },
          "metadata": {},
          "execution_count": 54
        }
      ]
    },
    {
      "cell_type": "code",
      "source": [
        "ds.to_csv('/content/sample_data/Filename2.csv', index=False)"
      ],
      "metadata": {
        "id": "XOPcTER-XgeA"
      },
      "execution_count": 55,
      "outputs": []
    }
  ]
}